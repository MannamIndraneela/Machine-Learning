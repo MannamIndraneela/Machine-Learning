{
 "cells": [
  {
   "cell_type": "code",
   "execution_count": 1,
   "metadata": {},
   "outputs": [],
   "source": [
    "# Importing all the necessary libraries.\n",
    "\n",
    "import matplotlib.pyplot as plt\n",
    "import numpy as np\n",
    "from scipy.stats import norm\n",
    "from scipy.stats import t\n",
    "import statistics"
   ]
  },
  {
   "cell_type": "markdown",
   "metadata": {},
   "source": [
    "#### Q-1: Pista House selling Hyderabadi Chicken Dum biryani claims that each parcel packet has 500 grams of biryani (also mentioned on the label of packet). You are sceptic of their claims and believe that on average each packet does not contain 500 grams of biryani. How do you prove your claim?\n",
    "\n",
    "Step - 1:\n",
    "- Alternate Hypothesis(Bold claim):$$ H_1: \\ \\mu \\neq 500$$ \n",
    "- Null Hypothesis(Status Quote):$$ H_0: \\ \\mu = 500 $$\n",
    "\n",
    "Step - 2: \n",
    "- Collect a sample of size n = 10.$$[490, 220, 470, 500, 495, 496, 496, 498, 508, 480]$$\n",
    "- After computing, we get sample mean($\\overline{x}$) as: $$\\overline{x} = 465.3$$\n",
    "\n",
    "Step - 3: Compute Test Statistic:\n",
    "- As population variance is unknown: $$ t = \\frac{\\overline{x} - \\mu}{(s/\\sqrt[2]{n})}$$\n",
    "\n",
    "Step - 4: Considered significance level $ \\alpha = 0.95 $\n",
    "- Lower the $ \\alpha $ means we need stronger evidence to reject Null Hypothesis($ H_0 $)\n",
    "\n",
    "Step - 5: Apply Decision Rule\n",
    "- 5.1 As population variance is not given, we are applying t- test statistic, the conditions of t-test statistics are:\n",
    " - Two tailed t-test: $$ |t|>t_{n-1,\\frac{\\alpha}{2}} \\Rightarrow Accept \\ H_1 \\ or \\ Reject \\ H_0 $$\n",
    " - Right tailed t-test: $$ t>t_{n-1,\\alpha} \\Rightarrow Accept \\ H_1 \\ or \\ Reject \\ H_0 $$\n",
    " - Left tailed t-test: $$ t<t_{n-1,\\alpha} \\Rightarrow Accept \\ H_1 \\ or \\ Reject \\ H_0 $$\n",
    " \n",
    "\n",
    "- 5.2 The another method is by computing p-value P(Test Statistics\\$ H_0 $) \n",
    " - For two tailed test:$$ p \\ value = 2 * (1.0 - cdf(test \\ statistic)) $$\n",
    " - For one tailed test:$$ p \\ value = (1.0 - cdf(test \\ statistic)) $$Now,$$ if (p \\ value &lt; \\alpha) \\Rightarrow Accept \\ H_1 \\ or \\ Reject \\ H_0 $$"
   ]
  },
  {
   "cell_type": "code",
   "execution_count": 2,
   "metadata": {},
   "outputs": [
    {
     "name": "stdout",
     "output_type": "stream",
     "text": [
      "Sum of the Observations: 4653\n",
      "Number of Observations: 10\n",
      "Sample Mean = 465.3\n",
      "Sample Standard Deviation: 86.84859110991829\n"
     ]
    }
   ],
   "source": [
    "# Step2 Computing Sample mean for sample size n = 10 and Sample Standard Deviation. \n",
    "\n",
    "x = [490, 220, 470, 500, 495, 496, 496, 498, 508, 480]\n",
    "print(\"Sum of the Observations:\",sum(x))\n",
    "print(\"Number of Observations:\",len(x))\n",
    "print(\"Sample Mean =\",sum(x)/len(x))\n",
    "sample_std = np.std(x, ddof=1)\n",
    "print(\"Sample Standard Deviation:\",sample_std)"
   ]
  },
  {
   "cell_type": "code",
   "execution_count": 3,
   "metadata": {},
   "outputs": [
    {
     "name": "stdout",
     "output_type": "stream",
     "text": [
      "alpha: 0.050000000000000044\n",
      "t-critical value: 2.2621571627409915\n"
     ]
    }
   ],
   "source": [
    "# Step3 and step4 are perfroming Two- Tailed Test as Alternate Hypothesis is having not equal symbol, \n",
    "# considering significance level value as 0.95 and calculating t-critical value.\n",
    "\n",
    "confidence_level = 0.95\n",
    "alpha = 1 - confidence_level\n",
    "t_critical =  t.ppf(1-(alpha/2),df=9) # Two tailed t-score for 95% Confidence Level\n",
    "print(\"alpha:\",alpha)\n",
    "print(\"t-critical value:\",t_critical)"
   ]
  },
  {
   "cell_type": "code",
   "execution_count": 4,
   "metadata": {},
   "outputs": [],
   "source": [
    "# Required data for t-test and p-test.\n",
    "sample_size = 10\n",
    "sample_mean = 465.3\n",
    "pop_mean = 500\n",
    "sample_std = 86.84859110991829"
   ]
  },
  {
   "cell_type": "code",
   "execution_count": 5,
   "metadata": {},
   "outputs": [
    {
     "name": "stdout",
     "output_type": "stream",
     "text": [
      "t-score: -1.263475128444671\n"
     ]
    }
   ],
   "source": [
    "# t-score.\n",
    "def t_score(sample_size, sample_mean, pop_mean, sample_std):\n",
    "    numerator = sample_mean - pop_mean\n",
    "    denominator = sample_std / (sample_size**0.5)\n",
    "    return numerator / denominator\n",
    "t = t_score(sample_size, sample_mean, pop_mean, sample_std)\n",
    "print(\"t-score:\",t)"
   ]
  },
  {
   "cell_type": "code",
   "execution_count": 6,
   "metadata": {},
   "outputs": [
    {
     "data": {
      "image/png": "[encoded data removed]",
      "text/plain": [
       "<Figure size 432x288 with 1 Axes>"
      ]
     },
     "metadata": {
      "needs_background": "light"
     },
     "output_type": "display_data"
    }
   ],
   "source": [
    "# Ploting the sampling distribution with rejection regions\n",
    "\n",
    "# Defining the x minimum and x maximum\n",
    "x_min = 1\n",
    "x_max = 1000\n",
    "\n",
    "# Defining the sampling distribution mean and sampling distribution std\n",
    "mean = pop_mean\n",
    "sample_std = sample_std\n",
    "\n",
    "# Ploting the graph and setting the x limits\n",
    "x = np.linspace(x_min, x_max, 100)\n",
    "y = norm.pdf(x, mean, sample_std)\n",
    "plt.xlim(x_min, x_max)\n",
    "plt.plot(x, y)\n",
    "\n",
    "# Computing the left and right critical values (Two tailed Test)\n",
    "t_critical_left = pop_mean + (-t_critical * sample_std)\n",
    "t_critical_right = pop_mean + (t_critical * sample_std)\n",
    "\n",
    "# Shading the left rejection region\n",
    "x1 = np.linspace(t_critical_left, x_min,100)\n",
    "y1 = norm.pdf(x1, mean, sample_std)\n",
    "plt.fill_between(x1, y1, color='orange')\n",
    "\n",
    "# Shading the right rejection region\n",
    "x2 = np.linspace(t_critical_right, x_max, 100)\n",
    "y2 = norm.pdf(x2, mean, sample_std)\n",
    "plt.fill_between(x2, y2, color='orange')\n",
    "\n",
    "# Ploting the sample mean and concluding the results \n",
    "plt.scatter(sample_mean,0)\n",
    "plt.annotate(\"x_bar\", (sample_mean,0.0008))\n",
    "plt.show()"
   ]
  },
  {
   "cell_type": "code",
   "execution_count": 7,
   "metadata": {},
   "outputs": [
    {
     "name": "stdout",
     "output_type": "stream",
     "text": [
      "t-score 1.263475128444671\n",
      "t_critical 2.2621571627409915\n",
      "Fail to reject Null Hypothesis\n"
     ]
    }
   ],
   "source": [
    "# Conclusion using t-test\n",
    "\n",
    "print(\"t-score\",np.abs(t))\n",
    "print(\"t_critical\",t_critical)\n",
    "if(np.abs(t) > t_critical):\n",
    "    print(\"Reject Null Hypothesis\")\n",
    "else:\n",
    "    print(\"Fail to reject Null Hypothesis\")"
   ]
  },
  {
   "cell_type": "code",
   "execution_count": 8,
   "metadata": {},
   "outputs": [
    {
     "name": "stdout",
     "output_type": "stream",
     "text": [
      "p_value =  0.20641847943818137\n",
      "alpha: 0.050000000000000044\n",
      "Fail to reject Null Hypothesis\n"
     ]
    }
   ],
   "source": [
    "# Conclusion using p-test\n",
    "\n",
    "p_value = 2 * (1.0 - norm.cdf(np.abs(t)))\n",
    "\n",
    "print(\"p_value = \", p_value)\n",
    "print(\"alpha:\",alpha)\n",
    "\n",
    "if(p_value < alpha):\n",
    "    print(\"Reject Null Hypothesis\")\n",
    "else:\n",
    "    print(\"Fail to reject Null Hypothesis\")"
   ]
  },
  {
   "cell_type": "markdown",
   "metadata": {},
   "source": [
    "#### Q-2:  You have developed a new Natural Language Processing Algorithms and done a user study. You claim that the average rating given by the users is greater than 4 on a scale of 1 to 5. How do you prove this to your client?\n",
    "\n",
    "Step - 1:\n",
    "- Alternate Hypothesis(Bold claim):$$ H_1: \\ \\mu > 4 $$ \n",
    "- Null Hypothesis(Status Quote):$$ H_0: \\ \\mu \\leq 4 $$\n",
    "\n",
    "Step - 2: \n",
    "- Collect a sample of size n = 10.$$[1,2,3,4,5,5,6,4,8,10]$$\n",
    "- After computing sample mean, we get $\\overline{x}$ as: $$\\overline{x} = 4.8$$\n",
    "\n",
    "Step - 3: Compute Test Statistic:\n",
    "- As population variance is unknown: $$ t = \\frac{\\overline{x} - \\mu}{(s/\\sqrt[2]{n})}$$\n",
    "\n",
    "Step - 4: Considered significance level $ \\alpha = 0.95 $\n",
    "- Lower the $ \\alpha $ means we need stronger evidence to reject Null Hypothesis($ H_0 $)\n",
    "\n",
    "Step - 5: Apply Decision Rule\n",
    "- 5.1 As population variance is not given, we are applying t- test statistic, the conditions of t-test statistics are:\n",
    " - Two tailed t-test: $$ |t|>t_{n-1,\\frac{\\alpha}{2}} \\Rightarrow Accept \\ H_1 \\ or \\ Reject \\ H_0 $$\n",
    " - Right tailed t-test: $$ t>t_{n-1,\\alpha} \\Rightarrow Accept \\ H_1 \\ or \\ Reject \\ H_0 $$\n",
    " - Left tailed t-test: $$ t<t_{n-1,\\alpha} \\Rightarrow Accept \\ H_1 \\ or \\ Reject \\ H_0 $$\n",
    " \n",
    "\n",
    "- 5.2 The another method is by computing p-value P(Test Statistics\\$ H_0 $) \n",
    " - For two tailed test:$$ p \\ value = 2 * (1.0 - cdf(test \\ statistic)) $$\n",
    " - For one tailed test:$$ p \\ value = (1.0 - cdf(test \\ statistic)) $$Now,$$ if (p \\ value &lt; \\alpha) \\Rightarrow Accept \\ H_1 \\ or \\ Reject \\ H_0 $$"
   ]
  },
  {
   "cell_type": "code",
   "execution_count": 9,
   "metadata": {},
   "outputs": [],
   "source": [
    "# Importing all the necessary libraries.\n",
    "\n",
    "import matplotlib.pyplot as plt\n",
    "import numpy as np\n",
    "from scipy.stats import norm\n",
    "from scipy.stats import t\n",
    "import statistics"
   ]
  },
  {
   "cell_type": "code",
   "execution_count": 10,
   "metadata": {},
   "outputs": [
    {
     "name": "stdout",
     "output_type": "stream",
     "text": [
      "Sum of the Observations: 48\n",
      "Number of Observations: 10\n",
      "Sample Mean = 4.8\n",
      "Sample Standard Deviation: 2.699794230842212\n"
     ]
    }
   ],
   "source": [
    "# Step2 Computing Sample mean for sample size n = 10 and Sample Standard Deviation.\n",
    "\n",
    "x = [1,2,3,4,5,5,6,4,8,10]\n",
    "print(\"Sum of the Observations:\",sum(x))\n",
    "print(\"Number of Observations:\",len(x))\n",
    "print(\"Sample Mean =\",sum(x)/len(x))\n",
    "sample_std = np.std(x, ddof=1)\n",
    "print(\"Sample Standard Deviation:\",sample_std)"
   ]
  },
  {
   "cell_type": "code",
   "execution_count": 11,
   "metadata": {},
   "outputs": [
    {
     "name": "stdout",
     "output_type": "stream",
     "text": [
      "Alpha: 0.050000000000000044\n",
      "t-critical value: 1.8331129326536335\n"
     ]
    }
   ],
   "source": [
    "# Step3 and Step4 are perfroming one- Tailed Test as Alternate Hypothesis is having greater than symbol,\n",
    "# considering confidence or significance level as 0.95 and calculating t-critical value.\n",
    "\n",
    "confidence_level = 0.95\n",
    "alpha = 1 - confidence_level\n",
    "t_critical =  t.ppf(1-(alpha),df=9) # one - tailed t-score for 95% Confidence Level\n",
    "print(\"Alpha:\",alpha)\n",
    "print(\"t-critical value:\",t_critical)"
   ]
  },
  {
   "cell_type": "code",
   "execution_count": 12,
   "metadata": {},
   "outputs": [],
   "source": [
    "# Required data for t-test and p-test.\n",
    "\n",
    "sample_size = 10\n",
    "sample_mean = 4.8\n",
    "pop_mean = 5\n",
    "sample_std = 2.699794230842212"
   ]
  },
  {
   "cell_type": "code",
   "execution_count": 13,
   "metadata": {},
   "outputs": [
    {
     "name": "stdout",
     "output_type": "stream",
     "text": [
      "t-score: -0.2342606428329093\n"
     ]
    }
   ],
   "source": [
    "#t-score\n",
    "\n",
    "def t_score(sample_size, sample_mean, pop_mean, sample_std):\n",
    "    numerator = sample_mean - pop_mean\n",
    "    denominator = sample_std / (sample_size**0.5)\n",
    "    return numerator / denominator\n",
    "t = t_score(sample_size, sample_mean, pop_mean, sample_std)\n",
    "print(\"t-score:\",t)"
   ]
  },
  {
   "cell_type": "code",
   "execution_count": 14,
   "metadata": {},
   "outputs": [
    {
     "data": {
      "image/png": "[encoded data removed]",
      "text/plain": [
       "<Figure size 432x288 with 1 Axes>"
      ]
     },
     "metadata": {
      "needs_background": "light"
     },
     "output_type": "display_data"
    }
   ],
   "source": [
    "# Ploting the sampling distribution with rejection regions\n",
    "\n",
    "# Defining the x minimum and x maximum\n",
    "x_min = -2\n",
    "x_max = 14\n",
    "\n",
    "# Defining the sampling distribution mean and sampling distribution std\n",
    "mean = pop_mean\n",
    "std = sample_std\n",
    "\n",
    "# Ploting the graph and setting the x limits\n",
    "x = np.linspace(x_min, x_max, 100)\n",
    "y = norm.pdf(x, mean, std)\n",
    "plt.xlim(x_min, x_max)\n",
    "plt.plot(x, y)\n",
    "\n",
    "# Computing the right critical value (Right tailed Test)\n",
    "t_critical_right = pop_mean + (t_critical * std)\n",
    "\n",
    "# Shading the right rejection region\n",
    "x1 = np.linspace(t_critical_right, x_max, 100)\n",
    "y1 = norm.pdf(x1, mean, std)\n",
    "plt.fill_between(x1, y1, color='orange')\n",
    "\n",
    "# Ploting the sample mean and concluding the results \n",
    "plt.scatter(sample_mean, 0)\n",
    "plt.annotate(\"x_bar\", (sample_mean, 0.1))\n",
    "plt.show()"
   ]
  },
  {
   "cell_type": "code",
   "execution_count": 15,
   "metadata": {},
   "outputs": [
    {
     "name": "stdout",
     "output_type": "stream",
     "text": [
      "t-score -0.2342606428329093\n",
      "t_critical 1.8331129326536335\n",
      "Fail to reject Null Hypothesis\n"
     ]
    }
   ],
   "source": [
    "# Conclusion using t-test\n",
    "\n",
    "print(\"t-score\",t)\n",
    "print(\"t_critical\",t_critical)\n",
    "if(t > t_critical):\n",
    "    print(\"Reject Null Hypothesis\")\n",
    "else:\n",
    "    print(\"Fail to reject Null Hypothesis\")"
   ]
  },
  {
   "cell_type": "code",
   "execution_count": 16,
   "metadata": {},
   "outputs": [
    {
     "name": "stdout",
     "output_type": "stream",
     "text": [
      "p_value =  0.4073913191591827\n",
      "Alpha: 0.050000000000000044\n",
      "Fail to reject Null Hypothesis\n"
     ]
    }
   ],
   "source": [
    "# Conclusion using p test\n",
    "\n",
    "p_value = 1.0 - norm.cdf(np.abs(t))\n",
    "\n",
    "print(\"p_value = \", p_value)\n",
    "print(\"Alpha:\",alpha)\n",
    "\n",
    "if(p_value < alpha):\n",
    "    print(\"Reject Null Hypothesis\")\n",
    "else:\n",
    "    print(\"Fail to reject Null Hypothesis\")"
   ]
  },
  {
   "cell_type": "markdown",
   "metadata": {},
   "source": [
    "#### Q-3: TATA has developed a better fuel management system for the SUV segment. They claim that with this system, on average the SUV's mileage is at least 15 km/litre?\n",
    "\n",
    "Step - 1:\n",
    "- Alternate Hypothesis(Bold claim):$$ H_1: \\ \\mu > 15 $$ \n",
    "- Null Hypothesis(Status Quote):$$ H_0: \\ \\mu \\leq 15 $$\n",
    "\n",
    "Step - 2: \n",
    "- Collect a sample of size n = 20.$$[14.08, 14.13, 15.65, 13.78, 16.26, 14.97, 15.36, 15.81, 14.53, 16.79, 15.78, 16.98, 13.23, 15.43, 15.46, 13.88, 14.31, 14.41, 15.76, 15.38]$$\n",
    "\n",
    "- After computing we get sample mean($\\overline{x}$) as: $$\\overline{x} = 15.098$$\n",
    "\n",
    "Step - 3: Compute Test Statistic:\n",
    "- As population variance is unknown: $$ t = \\frac{\\overline{x} - \\mu}{(s/\\sqrt[2]{n})}$$\n",
    "\n",
    "Step - 4: Considered significance level $ \\alpha = 0.95 $\n",
    "- Lower the $ \\alpha $ means we need stronger evidence to reject Null Hypothesis($ H_0 $)\n",
    "\n",
    "Step - 5: Apply Decision Rule\n",
    "- 5.1 As population variance is not given, we are applying t- test statistic, the conditions of t-test statistics are:\n",
    " - Two tailed t-test: $$ |t|>t_{n-1,\\frac{\\alpha}{2}} \\Rightarrow Accept \\ H_1 \\ or \\ Reject \\ H_0 $$\n",
    " - Right tailed t-test: $$ t>t_{n-1,\\alpha} \\Rightarrow Accept \\ H_1 \\ or \\ Reject \\ H_0 $$\n",
    " - Left tailed t-test: $$ t<t_{n-1,\\alpha} \\Rightarrow Accept \\ H_1 \\ or \\ Reject \\ H_0 $$\n",
    " \n",
    "\n",
    "- 5.2 The another method is by computing p-value P(Test Statistics\\$ H_0 $) \n",
    " - For two tailed test:$$ p \\ value = 2 * (1.0 - cdf(test \\ statistic)) $$\n",
    " - For one tailed test:$$ p \\ value = (1.0 - cdf(test \\ statistic)) $$Now,$$ if (p \\ value &lt; \\alpha) \\Rightarrow Accept \\ H_1 \\ or \\ Reject \\ H_0 $$"
   ]
  },
  {
   "cell_type": "code",
   "execution_count": 17,
   "metadata": {},
   "outputs": [],
   "source": [
    "# Importing all the necessary Libraries.\n",
    "\n",
    "import matplotlib.pyplot as plt\n",
    "import numpy as np\n",
    "from scipy.stats import norm\n",
    "from scipy.stats import t\n",
    "import statistics"
   ]
  },
  {
   "cell_type": "code",
   "execution_count": 18,
   "metadata": {},
   "outputs": [
    {
     "name": "stdout",
     "output_type": "stream",
     "text": [
      "Sum of the Observations: 301.97999999999996\n",
      "Number of Observations: 20\n",
      "Sample Mean = 15.098999999999998\n",
      "Sample Standard Deviation: 1.0253671999517255\n"
     ]
    }
   ],
   "source": [
    "# Step2: Computing Sample Mean for sample size n = 20 and Sample Standard Deviation.\n",
    "\n",
    "x = [14.08, 14.13, 15.65, 13.78, 16.26, 14.97, 15.36, 15.81, 14.53, 16.79, 15.78, 16.98, 13.23, 15.43, 15.46, 13.88, 14.31, 14.41, 15.76, 15.38]\n",
    "print(\"Sum of the Observations:\",sum(x))\n",
    "print(\"Number of Observations:\",len(x))\n",
    "print(\"Sample Mean =\",sum(x)/len(x))\n",
    "sample_std = np.std(x, ddof=1)\n",
    "print(\"Sample Standard Deviation:\",sample_std)"
   ]
  },
  {
   "cell_type": "code",
   "execution_count": 19,
   "metadata": {},
   "outputs": [
    {
     "name": "stdout",
     "output_type": "stream",
     "text": [
      "Alpha: 0.050000000000000044\n",
      "t-critical value: 1.729132811521367\n"
     ]
    }
   ],
   "source": [
    "# Step3 and Step4 are perfroming one- Tailed Test as Alternate Hypothesis is having greater than symbol,\n",
    "# considering confidence level = 0.95 and calculating t-critical value.\n",
    "\n",
    "confidence_level = 0.95\n",
    "alpha = 1 - confidence_level\n",
    "t_critical =  t.ppf(1-(alpha),df=19) # One tailed t-score for 95% Confidence Level\n",
    "print(\"Alpha:\",alpha)\n",
    "print(\"t-critical value:\",t_critical)"
   ]
  },
  {
   "cell_type": "code",
   "execution_count": 20,
   "metadata": {},
   "outputs": [],
   "source": [
    "# Required data for t-test and p-test.\n",
    "\n",
    "sample_size = 20\n",
    "sample_mean = 15.09\n",
    "pop_mean = 15\n",
    "sample_std = 1.0253671999517255"
   ]
  },
  {
   "cell_type": "code",
   "execution_count": 21,
   "metadata": {},
   "outputs": [
    {
     "name": "stdout",
     "output_type": "stream",
     "text": [
      "t-score: 0.39253472899163433\n"
     ]
    }
   ],
   "source": [
    "#t-score.\n",
    "\n",
    "def t_score(sample_size, sample_mean, pop_mean, sample_std):\n",
    "    numerator = sample_mean - pop_mean\n",
    "    denominator = sample_std / (sample_size**0.5)\n",
    "    return numerator / denominator\n",
    "t = t_score(sample_size, sample_mean, pop_mean, sample_std)\n",
    "print(\"t-score:\",t)"
   ]
  },
  {
   "cell_type": "code",
   "execution_count": 22,
   "metadata": {},
   "outputs": [
    {
     "data": {
      "image/png": "[encoded data removed]",
      "text/plain": [
       "<Figure size 432x288 with 1 Axes>"
      ]
     },
     "metadata": {
      "needs_background": "light"
     },
     "output_type": "display_data"
    }
   ],
   "source": [
    "# Ploting the sampling distribution with rejection regions\n",
    "\n",
    "# Defining the x minimum and x maximum\n",
    "x_min = 11\n",
    "x_max = 20\n",
    "\n",
    "# Defining the sampling distribution mean and sampling distribution std.\n",
    "mean = pop_mean\n",
    "std = sample_std\n",
    "\n",
    "# Ploting the graph and setting the x limits\n",
    "x = np.linspace(x_min, x_max, 100)\n",
    "y = norm.pdf(x, mean, std)\n",
    "\n",
    "plt.xlim(x_min, x_max)\n",
    "\n",
    "plt.plot(x, y)\n",
    "\n",
    "# Computing the right critical value (Right tailed Test)\n",
    "t_critical_right = pop_mean + (t_critical * std)\n",
    "\n",
    "# Shading the right rejection region.\n",
    "x1 = np.linspace(t_critical_right, x_max, 100)\n",
    "y1 = norm.pdf(x1, mean, std)\n",
    "plt.fill_between(x1, y1, color='orange')\n",
    "\n",
    "# Ploting the sample mean and concluding the results\n",
    "plt.scatter(sample_mean, 0)\n",
    "plt.annotate(\"x_bar\", (sample_mean, 0.1))\n",
    "plt.show()"
   ]
  },
  {
   "cell_type": "code",
   "execution_count": 23,
   "metadata": {},
   "outputs": [
    {
     "name": "stdout",
     "output_type": "stream",
     "text": [
      "t-score 0.39253472899163433\n",
      "t-critical 1.729132811521367\n",
      "Fail to reject Null Hypothesis\n"
     ]
    }
   ],
   "source": [
    "# Conclusion using t - test\n",
    "print(\"t-score\",t)\n",
    "print(\"t-critical\",t_critical)\n",
    "if(t > t_critical):\n",
    "    print(\"Reject Null Hypothesis\")\n",
    "else:\n",
    "    print(\"Fail to reject Null Hypothesis\")"
   ]
  },
  {
   "cell_type": "code",
   "execution_count": 24,
   "metadata": {},
   "outputs": [
    {
     "name": "stdout",
     "output_type": "stream",
     "text": [
      "p_value =  0.34733157804610093\n",
      "Alpha: 0.050000000000000044\n",
      "Fail to reject Null Hypothesis\n"
     ]
    }
   ],
   "source": [
    "# Conclusion using p - test\n",
    "p_value = 1.0 - norm.cdf(np.abs(t))\n",
    "\n",
    "print(\"p_value = \", p_value)\n",
    "print(\"Alpha:\",alpha)\n",
    "if(p_value < alpha):\n",
    "    print(\"Reject Null Hypothesis\")\n",
    "else:\n",
    "    print(\"Fail to reject Null Hypothesis\")"
   ]
  },
  {
   "cell_type": "markdown",
   "metadata": {},
   "source": [
    "#### Q-4) You have developed a new Machine Learning Application and claim that on average it takes less than 100 ms to predict for any future datapoint. How do you convince your client about this claim?\n",
    "\n",
    "Step - 1:\n",
    "- Alternate Hypothesis(Bold claim):$$ H_1: \\ \\mu < 100ms $$ \n",
    "- Null Hypothesis(Status Quote):$$ H_0: \\ \\mu \\geq 100ms $$\n",
    "\n",
    "Step - 2: \n",
    "- Collect a sample of size n = 10.$$[100,50,75,90,80,50,60,65,88,99]$$\n",
    "- After computing we get sample mean($\\overline{x}$) as: $$\\overline{x} = 75.7$$\n",
    "\n",
    "Step - 3: Compute Test Statistic:\n",
    "- As population variance is unknown: $$ t = \\frac{\\overline{x} - \\mu}{(s/\\sqrt[2]{n})}$$\n",
    "\n",
    "Step - 4: Considered significance level $ \\alpha = 0.95 $\n",
    "- Lower the $ \\alpha $ means we need stronger evidence to reject Null Hypothesis($ H_0 $)\n",
    "\n",
    "Step - 5: Apply Decision Rule\n",
    "- 5.1 As population variance is not given, we are applying t- test statistic, the conditions of t-test statistics are:\n",
    " - Two tailed t-test: $$ |t|>t_{n-1,\\frac{\\alpha}{2}} \\Rightarrow Accept \\ H_1 \\ or \\ Reject \\ H_0 $$\n",
    " - Right tailed t-test: $$ t>t_{n-1,\\alpha} \\Rightarrow Accept \\ H_1 \\ or \\ Reject \\ H_0 $$\n",
    " - Left tailed t-test: $$ t<t_{n-1,\\alpha} \\Rightarrow Accept \\ H_1 \\ or \\ Reject \\ H_0 $$\n",
    " \n",
    "\n",
    "- 5.2 The another method is by computing p-value P(Test Statistics\\$ H_0 $) \n",
    " - For two tailed test:$$ p \\ value = 2 * (1.0 - cdf(test \\ statistic)) $$\n",
    " - For one tailed test:$$ p \\ value = (1.0 - cdf(test \\ statistic)) $$Now,$$ if (p \\ value &lt; \\alpha) \\Rightarrow Accept \\ H_1 \\ or \\ Reject \\ H_0 $$"
   ]
  },
  {
   "cell_type": "code",
   "execution_count": 25,
   "metadata": {},
   "outputs": [],
   "source": [
    "# importing all the necessary libraries.\n",
    "import matplotlib.pyplot as plt\n",
    "import numpy as np\n",
    "from scipy.stats import norm\n",
    "from scipy.stats import t\n",
    "import statistics"
   ]
  },
  {
   "cell_type": "code",
   "execution_count": 26,
   "metadata": {},
   "outputs": [
    {
     "name": "stdout",
     "output_type": "stream",
     "text": [
      "Sum of the Observations: 757\n",
      "Number of Observations: 10\n",
      "Sample Mean = 75.7\n",
      "Sample Standard Deviation: 18.826990082207924\n"
     ]
    }
   ],
   "source": [
    "# Step2 Sample mean for sample size n = 10 and Sample Standard Deviation.\n",
    "\n",
    "x = [100,50,75,90,80,50,60,65,88,99]\n",
    "print(\"Sum of the Observations:\",sum(x))\n",
    "print(\"Number of Observations:\",len(x))\n",
    "print(\"Sample Mean =\",sum(x)/len(x))\n",
    "sample_std = np.std(x, ddof=1)\n",
    "print(\"Sample Standard Deviation:\",sample_std)"
   ]
  },
  {
   "cell_type": "code",
   "execution_count": 27,
   "metadata": {},
   "outputs": [
    {
     "name": "stdout",
     "output_type": "stream",
     "text": [
      "Alpha: 0.050000000000000044\n",
      "t-critical value: 1.8331129326536335\n"
     ]
    }
   ],
   "source": [
    "# Step3 Performing one- Tailed Test as Alternate Hypothesis is having less than symbol, \n",
    "#considering significance level as 0.95 and calculating t-critical value.\n",
    "\n",
    "confidence_level = 0.95\n",
    "alpha = 1 - confidence_level\n",
    "t_critical =  t.ppf(1-(alpha),df=9) # one tailed t-score for 95% Confidence Level\n",
    "print(\"Alpha:\",alpha)\n",
    "print(\"t-critical value:\",t_critical)"
   ]
  },
  {
   "cell_type": "code",
   "execution_count": 28,
   "metadata": {},
   "outputs": [],
   "source": [
    "#Required data for t-test and p-test.\n",
    "\n",
    "sample_size = 10\n",
    "sample_mean = 75.7\n",
    "pop_mean = 100\n",
    "sample_std = 18.826990082207924"
   ]
  },
  {
   "cell_type": "code",
   "execution_count": 29,
   "metadata": {},
   "outputs": [
    {
     "name": "stdout",
     "output_type": "stream",
     "text": [
      "t-Score: -4.081552431193497\n"
     ]
    }
   ],
   "source": [
    "# t-score.\n",
    "def t_score(sample_size, sample_mean, pop_mean, sample_std):\n",
    "    numerator = sample_mean - pop_mean\n",
    "    denominator = sample_std / (sample_size**0.5)\n",
    "    return numerator / denominator\n",
    "t = t_score(sample_size, sample_mean, pop_mean, sample_std)\n",
    "print(\"t-Score:\",t)"
   ]
  },
  {
   "cell_type": "code",
   "execution_count": 30,
   "metadata": {},
   "outputs": [
    {
     "data": {
      "image/png": "[encoded data removed]",
      "text/plain": [
       "<Figure size 432x288 with 1 Axes>"
      ]
     },
     "metadata": {
      "needs_background": "light"
     },
     "output_type": "display_data"
    }
   ],
   "source": [
    "# Ploting the sampling distribution with rejection regions\n",
    "\n",
    "# Defining the x minimum and x maximum\n",
    "x_min = 30\n",
    "x_max = 180\n",
    "\n",
    "# Defining the sampling distribution mean and sampling distribution std.\n",
    "mean = pop_mean\n",
    "std = sample_std\n",
    "\n",
    "# Ploting the graph and setting the x limits\n",
    "x = np.linspace(x_min, x_max, 100)\n",
    "y = norm.pdf(x, mean, std)\n",
    "\n",
    "plt.xlim(x_min, x_max)\n",
    "\n",
    "plt.plot(x, y)\n",
    "\n",
    "# Computing the left critical value (left tailed Test)\n",
    "t_critical_left = pop_mean + (-t_critical * std)\n",
    "\n",
    "# Shading the left rejection region.\n",
    "x1 = np.linspace(x_min, t_critical_left, 100)\n",
    "y1 = norm.pdf(x1, mean, std)\n",
    "plt.fill_between(x1, y1, color='orange')\n",
    "\n",
    "# Ploting the sample mean and concluding the results.\n",
    "plt.scatter(sample_mean, 0)\n",
    "plt.annotate(\"x_bar\", (sample_mean, 0.02))\n",
    "plt.show()"
   ]
  },
  {
   "cell_type": "code",
   "execution_count": 31,
   "metadata": {},
   "outputs": [
    {
     "name": "stdout",
     "output_type": "stream",
     "text": [
      "t-Score -4.081552431193497\n",
      "t_critical: 1.8331129326536335\n",
      "Reject Null Hypothesis\n"
     ]
    }
   ],
   "source": [
    "# Conclusion using t - test\n",
    "\n",
    "print(\"t-Score\",t)\n",
    "print(\"t_critical:\",t_critical)\n",
    "if(t < -t_critical):\n",
    "    print(\"Reject Null Hypothesis\")\n",
    "else:\n",
    "    print(\"Fail to reject Null Hypothesis\")"
   ]
  },
  {
   "cell_type": "code",
   "execution_count": 32,
   "metadata": {},
   "outputs": [
    {
     "name": "stdout",
     "output_type": "stream",
     "text": [
      "p_value =  2.2367941372558597e-05\n",
      "Alpha: 0.050000000000000044\n",
      "Reject Null Hypothesis\n"
     ]
    }
   ],
   "source": [
    "# Conclusion using p - test\n",
    "\n",
    "p_value = 1.0 - norm.cdf(np.abs(t))\n",
    "\n",
    "print(\"p_value = \", p_value)\n",
    "print(\"Alpha:\",alpha)\n",
    "if(p_value < alpha):\n",
    "    print(\"Reject Null Hypothesis\")\n",
    "else:\n",
    "    print(\"Fail to reject Null Hypothesis\")"
   ]
  }
 ],
 "metadata": {
  "kernelspec": {
   "display_name": "Python 3",
   "language": "python",
   "name": "python3"
  },
  "language_info": {
   "codemirror_mode": {
    "name": "ipython",
    "version": 3
   },
   "file_extension": ".py",
   "mimetype": "text/x-python",
   "name": "python",
   "nbconvert_exporter": "python",
   "pygments_lexer": "ipython3",
   "version": "3.8.5"
  }
 },
 "nbformat": 4,
 "nbformat_minor": 4
}
